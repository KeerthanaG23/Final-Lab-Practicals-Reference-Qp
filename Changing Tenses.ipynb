{
 "cells": [
  {
   "cell_type": "code",
   "execution_count": 21,
   "id": "af54d6a5",
   "metadata": {},
   "outputs": [],
   "source": [
    "import spacy\n",
    "from spacy.lang.en import English"
   ]
  },
  {
   "cell_type": "code",
   "execution_count": 43,
   "id": "e352570c",
   "metadata": {},
   "outputs": [
    {
     "name": "stdout",
     "output_type": "stream",
     "text": [
      "I ate  my apple\n"
     ]
    }
   ],
   "source": [
    "import re\n",
    "\n",
    "# Dictionary mapping tense names to regular expressions for detecting verbs in that tense\n",
    "tense_regex = {\n",
    "    'present': r'(\\b(?:am|are|is|was|were|be|being|been)\\b)|(\\b\\w+s\\b)',\n",
    "    'past': r'\\b(?:was|were|had|did|went|saw|said|came|took|gave|made|knew|thought|got|told|found|became|left|felt|put|brought|saw|heard|told|used|found|thought|told|became|told|began|worked|took|started|showed|tried|asked|answered|needed|liked)\\b',\n",
    "    'future': r'\\b(?:will|shall|going to)\\b',\n",
    "}\n",
    "\n",
    "# Function to convert tense\n",
    "def change_tense(text, from_tense, to_tense):\n",
    "    # Find verbs in the input text based on the from_tense\n",
    "    verbs = re.findall(tense_regex[from_tense], text)\n",
    "    converted_text = text\n",
    "    for verb in verbs:\n",
    "        verb = [v for v in verb if v][0]  # Extracting the matched verb\n",
    "        if from_tense == 'present' and to_tense == 'past':\n",
    "            # Example: converting \"runs\" to \"ran\"\n",
    "            if verb.endswith('s'):\n",
    "                converted_text = converted_text.replace(verb, verb[:-1])\n",
    "        # Add more conversion rules as needed\n",
    "    return converted_text\n",
    "\n",
    "# Example usage\n",
    "text = \"I ate  my apple\"\n",
    "from_tense = 'past'\n",
    "to_tense = 'future'\n",
    "converted_text = change_tense(text, from_tense, to_tense)\n",
    "print(converted_text)  # Output: \"She gave me a book.\"\n"
   ]
  },
  {
   "cell_type": "code",
   "execution_count": null,
   "id": "974eca20",
   "metadata": {},
   "outputs": [],
   "source": []
  }
 ],
 "metadata": {
  "kernelspec": {
   "display_name": "Python 3 (ipykernel)",
   "language": "python",
   "name": "python3"
  },
  "language_info": {
   "codemirror_mode": {
    "name": "ipython",
    "version": 3
   },
   "file_extension": ".py",
   "mimetype": "text/x-python",
   "name": "python",
   "nbconvert_exporter": "python",
   "pygments_lexer": "ipython3",
   "version": "3.9.7"
  }
 },
 "nbformat": 4,
 "nbformat_minor": 5
}
